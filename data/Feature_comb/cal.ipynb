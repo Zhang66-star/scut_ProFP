{
 "cells": [
  {
   "cell_type": "code",
   "execution_count": 1,
   "metadata": {},
   "outputs": [
    {
     "name": "stdout",
     "output_type": "stream",
     "text": [
      "read randomforestregressor\n",
      "read randomforestregressor\n",
      "read randomforestregressor\n",
      "read randomforestregressor\n"
     ]
    }
   ],
   "source": [
    "from aaindex import aaindex1\n",
    "from tqdm.notebook import tqdm\n",
    "import pandas as pd\n",
    "from sklearn.model_selection import LeaveOneOut\n",
    "from sklearn.model_selection import KFold\n",
    "from sklearn.model_selection import cross_val_score\n",
    "import time\n",
    "import os\n",
    "import itertools\n",
    "import matplotlib.pyplot as plt\n",
    "# %matplotlib agg\n",
    "\n",
    "valid_descriptors = [\n",
    "            'amino_acid_composition', \n",
    "            'dipeptide_composition', \n",
    "            'conjoint_triad',\n",
    "            'geary_autocorrelation',\n",
    "            'sequence_order_coupling_number',\n",
    "            'quasi_sequence_order'\n",
    "            ]\n",
    "comb_list = [list(x) for x in list(itertools.combinations(valid_descriptors,1))]\n",
    "all_indices = aaindex1.record_codes()\n",
    "algorithm =  [\n",
    "            'randomforestregressor', \n",
    "            'gradientboostingregressor',\n",
    "            'xgb',\n",
    "            'adaboostregressor', \n",
    "            'baggingregressor', \n",
    "            'plsregression',\n",
    "            'linearregression',  \n",
    "            'decisiontreeregressor', \n",
    "            'kneighborsregressor', \n",
    "            'svr'\n",
    "            ]\n",
    "for alg in algorithm:\n",
    "    df = pd.DataFrame(columns=['algorithm','Index','Category','Descriptor','Group','R2','RMSE','MSE','MAE','Spearman'])\n",
    "    for index in all_indices:\n",
    "        if (os.path.exists('{}/{}_2desc.csv'.format(alg,index)) == True):\n",
    "                    print('read {}'.format(alg,index))\n",
    "                    df1 = pd.read_csv('{}/{}_2desc.csv'.format(alg,index))\n",
    "                    df = pd.concat([df,df1])\n",
    "\n",
    "    df =  df.sort_values(by=['R2'],ascending=False)\n",
    "    df.to_csv('{}_aa_2desc.csv'.format(alg),index=False)\n"
   ]
  },
  {
   "cell_type": "code",
   "execution_count": 1,
   "metadata": {},
   "outputs": [
    {
     "name": "stderr",
     "output_type": "stream",
     "text": [
      "e:\\Anaconda3\\envs\\my_env\\lib\\site-packages\\numpy\\_distributor_init.py:30: UserWarning: loaded more than 1 DLL from .libs:\n",
      "e:\\Anaconda3\\envs\\my_env\\lib\\site-packages\\numpy\\.libs\\libopenblas.FB5AE2TYXYH2IJRDKGDGQ3XBKLKTF43H.gfortran-win_amd64.dll\n",
      "e:\\Anaconda3\\envs\\my_env\\lib\\site-packages\\numpy\\.libs\\libopenblas64__v0.3.23-gcc_10_3_0.dll\n",
      "  warnings.warn(\"loaded more than 1 DLL from .libs:\"\n"
     ]
    }
   ],
   "source": [
    "import pandas as pd\n",
    "import glob\n",
    "\n",
    "# 获取所有CSV文件的文件名\n",
    "file_names = glob.glob('*.csv')  # 这里假设你的CSV文件都在同一目录下\n",
    "\n",
    "# 创建一个空的DataFrame来存储所有数据\n",
    "combined_data = pd.DataFrame()\n",
    "\n",
    "# 逐个读取并合并CSV文件\n",
    "for file in file_names:\n",
    "    data = pd.read_csv(file)\n",
    "    combined_data = pd.concat([combined_data, data])\n",
    "\n",
    "# 根据R2列进行排序\n",
    "combined_data = combined_data.sort_values(by='Descriptor', ascending=False)\n",
    "\n",
    "# 将合并后的数据保存为一个新的CSV文件\n",
    "combined_data.to_csv('dataA集成all_Descriptor.csv', index=False)\n"
   ]
  }
 ],
 "metadata": {
  "kernelspec": {
   "display_name": "Python 3 (ipykernel)",
   "language": "python",
   "name": "python3"
  },
  "language_info": {
   "codemirror_mode": {
    "name": "ipython",
    "version": 3
   },
   "file_extension": ".py",
   "mimetype": "text/x-python",
   "name": "python",
   "nbconvert_exporter": "python",
   "pygments_lexer": "ipython3",
   "version": "3.9.12"
  },
  "vscode": {
   "interpreter": {
    "hash": "a4f23fe500bb2df01beecbf44d1938d41691df53da0ec4005391a1ba4561d470"
   }
  }
 },
 "nbformat": 4,
 "nbformat_minor": 4
}
